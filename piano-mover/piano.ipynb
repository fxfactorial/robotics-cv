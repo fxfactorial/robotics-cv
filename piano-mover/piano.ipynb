{
 "cells": [
  {
   "cell_type": "code",
   "execution_count": 135,
   "metadata": {
    "collapsed": true
   },
   "outputs": [],
   "source": [
    "import numpy as np\n",
    "import heapq\n",
    "import matplotlib.pyplot as plt\n",
    "import matplotlib.patches\n",
    "from matplotlib.animation import FuncAnimation\n",
    "from mpl_toolkits.mplot3d import Axes3D\n",
    "\n",
    "from itertools import combinations, product\n",
    "from math import pi, cos, sin, inf\n",
    "\n",
    "%matplotlib inline"
   ]
  },
  {
   "cell_type": "code",
   "execution_count": 136,
   "metadata": {
    "collapsed": true
   },
   "outputs": [],
   "source": [
    "def create_triangle(xy, theta, r=0.1, color='b'):\n",
    "    theta = theta - pi/2\n",
    "    tri = matplotlib.patches.RegularPolygon(\n",
    "        xy=xy, \n",
    "        numVertices=3, \n",
    "        radius=r, \n",
    "        orientation=theta,\n",
    "        color=color,\n",
    "    )\n",
    "    return tri"
   ]
  },
  {
   "cell_type": "code",
   "execution_count": 137,
   "metadata": {
    "collapsed": true
   },
   "outputs": [],
   "source": [
    "def side_of_line(pa, pb, p):\n",
    "    '''Returns -1 if p is in left half-plane determined \n",
    "       by points pa and pb, +1 if in right half-plane'''\n",
    "    lhs = (p[1] - pa[1]) * (pb[0] - pa[0])\n",
    "    rhs = (pb[1] - pa[1]) * (p[0] - pa[0])\n",
    "    return np.sign(rhs - lhs)"
   ]
  },
  {
   "cell_type": "code",
   "execution_count": 138,
   "metadata": {
    "collapsed": true
   },
   "outputs": [],
   "source": [
    "def exists_separating_hyperplane(tri1, tri2):\n",
    "    '''tri1 and tri2 are 2 x 3 and denote the vertices of two triangles'''\n",
    "    for i in range(3):\n",
    "        pa, pb = [tri1[:, j] for j in range(3) if i != j]\n",
    "        side_1 = side_of_line(pa, pb, tri1[:, i])\n",
    "        sides_2 = [side_of_line(pa, pb, tri2[:, j]) for j in range(3)]\n",
    "        signs_differ = [side_1 != side_2 for side_2 in sides_2]\n",
    "        if all(signs_differ): return True\n",
    "    return False"
   ]
  },
  {
   "cell_type": "code",
   "execution_count": 139,
   "metadata": {
    "collapsed": true
   },
   "outputs": [],
   "source": [
    "def intersect(tri1, tri2):\n",
    "    '''Two triangles intersect if cannot find separating hyperplane'''\n",
    "    b1 = exists_separating_hyperplane(tri1, tri2)\n",
    "    b2 = exists_separating_hyperplane(tri2, tri1)\n",
    "    return (not b1) and (not b2)"
   ]
  },
  {
   "cell_type": "code",
   "execution_count": 141,
   "metadata": {
    "collapsed": true
   },
   "outputs": [],
   "source": [
    "def collision_check(piano, obstacles, verts_fn, inflate_factor=1.0):\n",
    "    piano = inflate_factor * verts_fn(piano)[:3].T\n",
    "    obstacles = [verts_fn(obs)[:3].T for obs in obstacles]\n",
    "    return any([intersect(piano, obs) for obs in obstacles])"
   ]
  },
  {
   "cell_type": "code",
   "execution_count": 142,
   "metadata": {
    "collapsed": true
   },
   "outputs": [],
   "source": [
    "def move_piano(piano, xy, theta):\n",
    "    piano.xy = xy\n",
    "    piano.orientation = theta"
   ]
  },
  {
   "cell_type": "code",
   "execution_count": 143,
   "metadata": {
    "collapsed": true
   },
   "outputs": [],
   "source": [
    "def compute_configuration_space(piano, obstacles, verts_fn, n_xy=50, n_theta=20):\n",
    "    '''Sweeps through grid checking for triangle intersections'''\n",
    "    \n",
    "    linspace_xy = np.linspace(0, 6, n_xy)\n",
    "    linspace_theta = np.linspace(0, 2 * pi, n_theta)\n",
    "    cspace = np.zeros((n_xy, n_xy, n_theta))\n",
    "    \n",
    "    for i, x in enumerate(linspace_xy):\n",
    "        if ((i+1) % (n_xy // 10)) == 0: print('step {}/{}'.format(i+1, n_xy))\n",
    "        for j, y in enumerate(linspace_xy):\n",
    "            for k, theta in enumerate(linspace_theta):\n",
    "                move_piano(piano, (x, y), theta)\n",
    "                cspace[i, j, k] = collision_check(piano, obstacles, verts_fn)\n",
    "    return cspace"
   ]
  },
  {
   "cell_type": "code",
   "execution_count": 145,
   "metadata": {
    "collapsed": true
   },
   "outputs": [],
   "source": [
    "def make_obstacles():\n",
    "    XY = [(2, 1), (2, 5), (3.7, 2), (5, 4)]\n",
    "    Theta = [(pi/2), (-pi/2), (pi/3), (pi/6)]\n",
    "    params = zip(XY, Theta)\n",
    "    return [create_triangle(*p, r=0.5, color='black') for p in params]"
   ]
  },
  {
   "cell_type": "code",
   "execution_count": 146,
   "metadata": {
    "collapsed": true
   },
   "outputs": [],
   "source": [
    "def plot_world(patches):\n",
    "    fig, ax = plt.subplots()\n",
    "    for patch in patches:\n",
    "        ax.add_patch(patch)\n",
    "        \n",
    "    ax.set_xlim([0, 6])\n",
    "    ax.set_ylim([0, 6])\n",
    "    plt.show()\n",
    "    return ax"
   ]
  },
  {
   "cell_type": "code",
   "execution_count": 168,
   "metadata": {
    "collapsed": true
   },
   "outputs": [],
   "source": [
    "def demo_triangle_intersection():\n",
    "    fig, axarr = plt.subplots(nrows=1, ncols=2, figsize=(6, 3))\n",
    "    tri1 = np.array([[3, 1, 4], [3, 4, 1]])\n",
    "    tri2 = [np.array([[2, 1, 4], [0, 1, 2]]), \n",
    "            np.array([[0, 0, 2], [0, 1, 2]])]\n",
    "    \n",
    "    for i, tri2 in enumerate(tri2):\n",
    "        verb = 'do' if intersect(tri1, tri2) else 'do not'\n",
    "        title = 'triangles {} intersect'.format(verb)\n",
    "        for tri in (tri1, tri2):\n",
    "            axarr[i].add_patch(matplotlib.patches.Polygon(xy=tri.T))\n",
    "            \n",
    "        axarr[i].set_xlim([-1, 5])\n",
    "        axarr[i].set_ylim([-1, 5])\n",
    "        axarr[i].xaxis.set_visible(False)\n",
    "        axarr[i].yaxis.set_visible(False)\n",
    "        axarr[i].set_title(title)"
   ]
  },
  {
   "cell_type": "code",
   "execution_count": 148,
   "metadata": {
    "collapsed": true
   },
   "outputs": [],
   "source": [
    "def get_verts(ax, patch):\n",
    "    transformation = ax.transData.inverted()\n",
    "    return transformation.transform(patch.get_verts())"
   ]
  },
  {
   "cell_type": "code",
   "execution_count": 149,
   "metadata": {
    "collapsed": true
   },
   "outputs": [],
   "source": [
    "def plot_cspace_cross_sections(cspace):\n",
    "    fig, axarr = plt.subplots(nrows=2, ncols=2)\n",
    "    for n in range(4):\n",
    "        i, j = np.unravel_index(n, (2, 2))\n",
    "        axarr[i, j].imshow(cspace[:, :, 2 * n])\n",
    "        axarr[i, j].xaxis.set_visible(False)\n",
    "        axarr[i, j].yaxis.set_visible(False)\n",
    "\n",
    "    fig.tight_layout()\n",
    "    title = 'Configuration space cross sections'\n",
    "    fig.suptitle(title, fontsize=12, family='monospace')\n",
    "    fig.subplots_adjust(top=0.90)\n",
    "    plt.show()"
   ]
  },
  {
   "cell_type": "code",
   "execution_count": 151,
   "metadata": {
    "collapsed": true
   },
   "outputs": [],
   "source": [
    "class PQ:\n",
    "    '''Wrapper object for heapq module'''\n",
    "    def __init__(self, data, key):\n",
    "        self.key = key\n",
    "        self._data = [(key(elt), elt) for elt in data]\n",
    "        heapq.heapify(self._data)\n",
    " \n",
    "    def push(self, elt):\n",
    "        heapq.heappush(self._data, (self.key(elt), elt))\n",
    " \n",
    "    def pop(self):\n",
    "        return heapq.heappop(self._data)[1]"
   ]
  },
  {
   "cell_type": "code",
   "execution_count": 191,
   "metadata": {
    "collapsed": true
   },
   "outputs": [],
   "source": [
    "class Dijkstra:\n",
    "    '''0s in cspace mark free space, 1s mark obstacles'''\n",
    "   \n",
    "    def __init__(self, cspace, start, dest):\n",
    "        self.cspace = cspace.copy()\n",
    "        self.start = start\n",
    "        self.dest = dest\n",
    "        self.route = []\n",
    "        self.came_from = {start: start}\n",
    "        self.dist_to = inf * np.ones_like((cspace))\n",
    "        self.dist_to[start] = 0\n",
    "\n",
    "\n",
    "    def dijsktra(self):\n",
    "        seen = set()\n",
    "        y = self.start\n",
    "        manhattan = lambda x: sum([abs(y[i] - x[i]) for i in range(3)])\n",
    "        frontier = PQ(data=[self.start], key=manhattan)\n",
    "\n",
    "        while frontier:\n",
    "            curr = frontier.pop()\n",
    "            seen.add(curr)\n",
    "            for nbr in self.get_neighbors(*curr):\n",
    "                if nbr not in seen: \n",
    "                    self.visit_neighbor(curr, nbr)\n",
    "                    frontier.push(nbr)\n",
    "                if nbr == self.dest:\n",
    "                    frontier = []\n",
    "                    break\n",
    "        self.build_route()\n",
    "        return self.route\n",
    "\n",
    "\n",
    "    def build_route(self):\n",
    "        node = self.dest\n",
    "        route = [self.dest]\n",
    "        while node != self.came_from[node]:\n",
    "            node = self.came_from[node]\n",
    "            route += [node]\n",
    "        self.route = list(reversed(route))\n",
    "            \n",
    "    \n",
    "    def visit_neighbor(self, curr, nbr):\n",
    "        tentative_dist = self.dist_to[curr] + 1\n",
    "        if tentative_dist < self.dist_to[nbr]:\n",
    "            self.dist_to[nbr] = tentative_dist\n",
    "            self.came_from[nbr] = curr\n",
    "            \n",
    "            \n",
    "    def get_neighbors(self, i, j, k):\n",
    "        sz = self.cspace.shape\n",
    "        free = lambda x: self.cspace[x] != 1\n",
    "        in_bounds = lambda x: all([0 <= x[m] < sz[m] for m in range(3)])\n",
    "        allowed = lambda x: sum([a == b for a, b in zip(x, [i, j, k])]) == 2\n",
    "        predicate = lambda x: free(x) and in_bounds(x) and allowed(x)\n",
    "        candidates = product(range(i-1, i+2), range(j-1, j+2), range(k-1, k+2))\n",
    "        return filter(predicate, candidates)\n",
    "\n",
    "    \n",
    "    def visualize(self):\n",
    "        route = list(map(list, zip(*self.route)))\n",
    "        self.cspace[route] = 2\n",
    "        self.cspace[self.start] = 3\n",
    "        self.cspace[self.dest] = 4\n",
    "        return self.cspace"
   ]
  },
  {
   "cell_type": "code",
   "execution_count": 170,
   "metadata": {},
   "outputs": [
    {
     "data": {
      "image/png": "[encoded data removed]",
      "text/plain": [
       "<Figure size 432x216 with 2 Axes>"
      ]
     },
     "metadata": {},
     "output_type": "display_data"
    }
   ],
   "source": [
    "demo_triangle_intersection()"
   ]
  },
  {
   "cell_type": "code",
   "execution_count": 171,
   "metadata": {},
   "outputs": [
    {
     "data": {
      "image/png": "[encoded data removed]",
      "text/plain": [
       "<Figure size 432x288 with 1 Axes>"
      ]
     },
     "metadata": {},
     "output_type": "display_data"
    },
    {
     "name": "stdout",
     "output_type": "stream",
     "text": [
      "step 5/50\n",
      "step 10/50\n",
      "step 15/50\n",
      "step 20/50\n",
      "step 25/50\n",
      "step 30/50\n",
      "step 35/50\n",
      "step 40/50\n",
      "step 45/50\n",
      "step 50/50\n"
     ]
    }
   ],
   "source": [
    "piano = create_triangle(xy=(1, 2), theta=pi/2, r=0.7)\n",
    "obstacles = make_obstacles()\n",
    "\n",
    "patches = [piano] + obstacles\n",
    "ax = plot_world(patches)\n",
    "\n",
    "verts_fn = lambda patch: get_verts(ax, patch)\n",
    "cspace = compute_configuration_space(piano, obstacles, verts_fn)"
   ]
  },
  {
   "cell_type": "code",
   "execution_count": 172,
   "metadata": {},
   "outputs": [
    {
     "data": {
      "image/png": "[encoded data removed]",
      "text/plain": [
       "<Figure size 432x288 with 4 Axes>"
      ]
     },
     "metadata": {},
     "output_type": "display_data"
    }
   ],
   "source": [
    "plot_cspace_cross_sections(cspace)"
   ]
  },
  {
   "cell_type": "code",
   "execution_count": 175,
   "metadata": {},
   "outputs": [
    {
     "data": {
      "text/plain": [
       "[(1, 1, 1), (1, 2, 1), (1, 3, 1), (2, 3, 1), (3, 3, 1)]"
      ]
     },
     "execution_count": 175,
     "metadata": {},
     "output_type": "execute_result"
    }
   ],
   "source": [
    "d = Dijkstra(cspace, start=(1, 1, 1), dest=(3, 3, 1))\n",
    "route = d.dijsktra()\n",
    "route"
   ]
  },
  {
   "cell_type": "code",
   "execution_count": 188,
   "metadata": {},
   "outputs": [
    {
     "data": {
      "image/png": "[encoded data removed]",
      "text/plain": [
       "<Figure size 432x288 with 1 Axes>"
      ]
     },
     "metadata": {},
     "output_type": "display_data"
    }
   ],
   "source": [
    "fig = plt.figure()\n",
    "ax = fig.gca(projection='3d')\n",
    "ax.voxels(cspace)\n",
    "\n",
    "for axis in (ax.w_xaxis, ax.w_yaxis, ax.w_zaxis):\n",
    "    axis.set_pane_color((1.0, 1.0, 1.0, 0.0))\n",
    "    axis.line.set_color((1.0, 1.0, 1.0, 0.0))\n",
    "\n",
    "ax.set_xticks([])\n",
    "ax.set_yticks([])\n",
    "ax.set_zticks([])\n",
    "\n",
    "plt.show()\n",
    "\n",
    "def rotate(angle, ax):\n",
    "    ax.view_init(azim=angle)\n",
    "    \n",
    "rot_animation = FuncAnimation(fig, rotate, fargs=(ax,), frames=np.arange(0, 360, 5), interval=100)\n",
    "rot_animation.save('cspace.gif', dpi=80, writer='imagemagick')"
   ]
  },
  {
   "cell_type": "code",
   "execution_count": 189,
   "metadata": {
    "collapsed": true
   },
   "outputs": [],
   "source": [
    "def main():\n",
    "    pass"
   ]
  },
  {
   "cell_type": "code",
   "execution_count": 190,
   "metadata": {
    "collapsed": true
   },
   "outputs": [],
   "source": [
    "if __name__ == '__main__':\n",
    "    main()"
   ]
  }
 ],
 "metadata": {
  "kernelspec": {
   "display_name": "Python 3",
   "language": "python",
   "name": "python3"
  },
  "language_info": {
   "codemirror_mode": {
    "name": "ipython",
    "version": 3
   },
   "file_extension": ".py",
   "mimetype": "text/x-python",
   "name": "python",
   "nbconvert_exporter": "python",
   "pygments_lexer": "ipython3",
   "version": "3.6.1"
  }
 },
 "nbformat": 4,
 "nbformat_minor": 2
}
