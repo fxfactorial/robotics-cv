{
 "cells": [
  {
   "cell_type": "code",
   "execution_count": 13,
   "metadata": {
    "collapsed": true
   },
   "outputs": [],
   "source": [
    "import numpy as np\n",
    "import heapq\n",
    "import matplotlib.pyplot as plt\n",
    "import matplotlib.patches\n",
    "\n",
    "from math import inf, pi\n",
    "from itertools import product\n",
    "\n",
    "%matplotlib inline"
   ]
  },
  {
   "cell_type": "code",
   "execution_count": 88,
   "metadata": {
    "collapsed": true
   },
   "outputs": [],
   "source": [
    "def collision_check():\n",
    "    pass"
   ]
  },
  {
   "cell_type": "code",
   "execution_count": 89,
   "metadata": {
    "collapsed": true
   },
   "outputs": [],
   "source": [
    "def intersect(tri1, tri2):\n",
    "    pass"
   ]
  },
  {
   "cell_type": "code",
   "execution_count": 91,
   "metadata": {
    "collapsed": true
   },
   "outputs": [],
   "source": [
    "def compute_configuration_space(piano, grid):\n",
    "    '''sweep through grid checking for triangle intersections'''\n",
    "    configuration_space = np.zeros_like(grid)\n",
    "    for x in np.arange(0, 10, 0.1):\n",
    "        for y in np.arange(0, 10, 0.1):\n",
    "            for theta in np.arange(0, 2*pi, 0.05):\n",
    "                if False:\n",
    "                    configuration_space[x, y, theta] = collision_check()\n",
    "    \n",
    "    return configuration_space"
   ]
  },
  {
   "cell_type": "code",
   "execution_count": 92,
   "metadata": {
    "collapsed": true
   },
   "outputs": [],
   "source": [
    "def make_piano(offset):\n",
    "    vertices = np.array([[0.0, 0.0], [0.0, 2.0], [0.5, 2.2], \n",
    "        [1.0, 2.0], [1.2, 1.2], [1.5, 1.0], [1.5, 0.0]])\n",
    "    xy = vertices + offset\n",
    "    piano = matplotlib.patches.Polygon(xy=xy)\n",
    "    return piano"
   ]
  },
  {
   "cell_type": "code",
   "execution_count": 93,
   "metadata": {
    "collapsed": true
   },
   "outputs": [],
   "source": [
    "def make_obstacles():\n",
    "    wall_1 = matplotlib.patches.Rectangle(xy=(5, 0), angle=0, height=2, width=0.2)\n",
    "    wall_2 = matplotlib.patches.Rectangle(xy=(5, 5), angle=0, height=2, width=0.2)\n",
    "    obstacles = [wall_1, wall_2]\n",
    "    return obstacles"
   ]
  },
  {
   "cell_type": "code",
   "execution_count": 94,
   "metadata": {
    "collapsed": true
   },
   "outputs": [],
   "source": [
    "def plot_world(patches, goal=(8, 2)):\n",
    "    fig, ax = plt.subplots()\n",
    "    for patch in patches:\n",
    "        ax.add_patch(patch)\n",
    "        ax.set_xlim([0, 10])\n",
    "    ax.set_ylim([0, 10])\n",
    "    ax.scatter(goal[0], goal[1])\n",
    "    plt.show()\n",
    "    return ax"
   ]
  },
  {
   "cell_type": "code",
   "execution_count": 95,
   "metadata": {},
   "outputs": [
    {
     "data": {
      "image/png": "[encoded data removed]",
      "text/plain": [
       "<Figure size 432x288 with 1 Axes>"
      ]
     },
     "metadata": {},
     "output_type": "display_data"
    }
   ],
   "source": [
    "piano = make_piano(offset=np.array([2, 4]))\n",
    "obstacles = make_obstacles()\n",
    "\n",
    "patches = [piano] + obstacles\n",
    "ax = plot_world(patches)"
   ]
  },
  {
   "cell_type": "code",
   "execution_count": 99,
   "metadata": {
    "collapsed": true
   },
   "outputs": [],
   "source": [
    "def main():\n",
    "    pass"
   ]
  },
  {
   "cell_type": "code",
   "execution_count": null,
   "metadata": {
    "collapsed": true
   },
   "outputs": [],
   "source": [
    "if __name__ == '__main__':\n",
    "    main()"
   ]
  }
 ],
 "metadata": {
  "kernelspec": {
   "display_name": "Python 3",
   "language": "python",
   "name": "python3"
  },
  "language_info": {
   "codemirror_mode": {
    "name": "ipython",
    "version": 3
   },
   "file_extension": ".py",
   "mimetype": "text/x-python",
   "name": "python",
   "nbconvert_exporter": "python",
   "pygments_lexer": "ipython3",
   "version": "3.6.1"
  }
 },
 "nbformat": 4,
 "nbformat_minor": 2
}
