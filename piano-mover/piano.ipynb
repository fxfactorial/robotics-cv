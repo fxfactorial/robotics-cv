{
 "cells": [
  {
   "cell_type": "code",
   "execution_count": 396,
   "metadata": {
    "collapsed": true
   },
   "outputs": [],
   "source": [
    "import numpy as np\n",
    "import heapq\n",
    "import matplotlib.pyplot as plt\n",
    "import matplotlib.patches\n",
    "\n",
    "from itertools import combinations\n",
    "from math import pi, cos, sin\n",
    "\n",
    "%matplotlib inline"
   ]
  },
  {
   "cell_type": "code",
   "execution_count": 536,
   "metadata": {
    "collapsed": true
   },
   "outputs": [],
   "source": [
    "def create_triangle(xy, theta, r=0.1, color='b'):\n",
    "    theta = theta - pi/2\n",
    "    tri = matplotlib.patches.RegularPolygon(\n",
    "        xy=xy, \n",
    "        numVertices=3, \n",
    "        radius=r, \n",
    "        orientation=theta,\n",
    "        color=color,\n",
    "    )\n",
    "    return tri"
   ]
  },
  {
   "cell_type": "code",
   "execution_count": 542,
   "metadata": {
    "collapsed": true
   },
   "outputs": [],
   "source": [
    "def side_of_line(pa, pb, p):\n",
    "    '''Returns -1 if p is in left half-plane determined \n",
    "       by points pa and pb, +1 if in right half-plane'''\n",
    "    \n",
    "    lhs = (p[1] - pa[1]) * (pb[0] - pa[0])\n",
    "    rhs = (pb[1] - pa[1]) * (p[0] - pa[0])\n",
    "    return np.sign(rhs - lhs)"
   ]
  },
  {
   "cell_type": "code",
   "execution_count": 543,
   "metadata": {
    "collapsed": true
   },
   "outputs": [],
   "source": [
    "def exists_separating_hyperplane(tri1, tri2):\n",
    "    '''tri1 and tri2 are 2 x 3 and denote the vertices of two triangles'''\n",
    "    \n",
    "    for i in range(3):\n",
    "        pa, pb = [tri1[:, j] for j in range(3) if i != j]\n",
    "        side_1 = side_of_line(pa, pb, tri1[:, i])\n",
    "        sides_2 = [side_of_line(pa, pb, tri2[:, j]) for j in range(3)]\n",
    "        signs_differ = [side_1 != side_2 for side_2 in sides_2]\n",
    "        if all(signs_differ): return True\n",
    "    return False"
   ]
  },
  {
   "cell_type": "code",
   "execution_count": 544,
   "metadata": {
    "collapsed": true
   },
   "outputs": [],
   "source": [
    "def intersect(tri1, tri2):\n",
    "    '''Two triangles intersect if cannot find separating hyperplane'''\n",
    "    b1 = exists_separating_hyperplane(tri1, tri2)\n",
    "    b2 = exists_separating_hyperplane(tri2, tri1)\n",
    "    return (not b1) and (not b2)"
   ]
  },
  {
   "cell_type": "code",
   "execution_count": 545,
   "metadata": {},
   "outputs": [],
   "source": [
    "def triangulate(patch):\n",
    "    '''Decomposes a polygonal patch into triangles.\n",
    "       (Does not account for redundant edges.)'''\n",
    "    x, y = patch.get_verts().T[:, :-1]\n",
    "    numvertices = x.shape[0]\n",
    "    combs = map(list, combinations(range(numvertices), 3))\n",
    "    tris = [np.array([x[comb], y[comb]]) for comb in combs]\n",
    "    return tris"
   ]
  },
  {
   "cell_type": "code",
   "execution_count": 552,
   "metadata": {
    "collapsed": true
   },
   "outputs": [],
   "source": [
    "def collision_check(piano, obstacles, verts_fn, inflate_factor=1.0):\n",
    "    piano = inflate_factor * verts_fn(piano)[:3].T\n",
    "    obstacles = [verts_fn(obs)[:3].T for obs in obstacles]\n",
    "    return any([intersect(piano, obs) for obs in obstacles])"
   ]
  },
  {
   "cell_type": "code",
   "execution_count": 433,
   "metadata": {
    "collapsed": true
   },
   "outputs": [],
   "source": [
    "def move_piano(piano, xy, theta):\n",
    "    piano.xy = xy\n",
    "    piano.orientation = theta"
   ]
  },
  {
   "cell_type": "code",
   "execution_count": 509,
   "metadata": {},
   "outputs": [],
   "source": [
    "def compute_configuration_space(piano, obstacles, verts_fn, n=100):\n",
    "    '''Sweeps through grid checking for triangle intersections'''\n",
    "    \n",
    "    linspace_xy = np.linspace(0, 10, n)\n",
    "    linspace_theta = np.linspace(0, 2 * pi, n)\n",
    "    cspace = np.zeros((n, n, n))\n",
    "    \n",
    "    for i, x in enumerate(linspace_xy):\n",
    "        for j, y in enumerate(linspace_xy):\n",
    "            for k, theta in enumerate(linspace_theta):\n",
    "                move_piano(piano, (x, y), theta)\n",
    "                cspace[i, j, k] = collision_check(piano, obstacles, verts_fn)\n",
    "\n",
    "    return configuration_space"
   ]
  },
  {
   "cell_type": "code",
   "execution_count": 510,
   "metadata": {
    "collapsed": true
   },
   "outputs": [],
   "source": [
    "def make_fancy_piano(offset):\n",
    "    '''Hardcoded polygon to look more like piano'''\n",
    "    vertices = np.array([\n",
    "        [0.0, 0.0], [0.0, 2.0], [0.5, 2.2], \n",
    "        [1.0, 2.0], [1.2, 1.2], [1.5, 1.0], [1.5, 0.0]])\n",
    "    xy = vertices + offset\n",
    "    piano = matplotlib.patches.Polygon(xy=xy)\n",
    "    return piano"
   ]
  },
  {
   "cell_type": "code",
   "execution_count": 511,
   "metadata": {
    "collapsed": true
   },
   "outputs": [],
   "source": [
    "def make_obstacles():\n",
    "    XY = [(5, 2), (5, 6), (7, 3)]\n",
    "    Theta = [(pi/2), (-pi/2), (pi/2)]\n",
    "    params = zip(XY, Theta)\n",
    "    return [create_triangle(*p, r=0.5, color='black') for p in params]"
   ]
  },
  {
   "cell_type": "code",
   "execution_count": 515,
   "metadata": {},
   "outputs": [],
   "source": [
    "def plot_world(patches):\n",
    "    fig, ax = plt.subplots()\n",
    "    for patch in patches:\n",
    "        ax.add_patch(patch)\n",
    "        \n",
    "    ax.set_xlim([0, 10])\n",
    "    ax.set_ylim([0, 10])\n",
    "    plt.show()\n",
    "    return ax"
   ]
  },
  {
   "cell_type": "code",
   "execution_count": 595,
   "metadata": {
    "collapsed": true
   },
   "outputs": [],
   "source": [
    "def demo_triangle_intersection(positive_case=True):\n",
    "    tri1 = np.array([[3, 1, 4], [3, 4, 1]])\n",
    "    if positive_case: tri2 = np.array([[2, 1, 4], [0, 1, 2]])\n",
    "    else: tri2 = np.array([[0, 0, 2], [0, 1, 2]])\n",
    "        \n",
    "    verb = 'do' if intersect(tri1, tri2) else 'do not'\n",
    "    title = 'triangles {} intersect'.format(verb)\n",
    "\n",
    "    fig, ax = plt.subplots()\n",
    "    for tri in (tri1, tri2):\n",
    "        ax.add_patch(matplotlib.patches.Polygon(xy=tri.T))\n",
    "        \n",
    "    ax.set_xlim([-5, 5])\n",
    "    ax.set_ylim([-5, 5])\n",
    "    fig.suptitle(title)"
   ]
  },
  {
   "cell_type": "code",
   "execution_count": 596,
   "metadata": {},
   "outputs": [
    {
     "data": {
      "image/png": "[encoded data removed]",
      "text/plain": [
       "<Figure size 432x288 with 1 Axes>"
      ]
     },
     "metadata": {},
     "output_type": "display_data"
    },
    {
     "data": {
      "image/png": "[encoded data removed]",
      "text/plain": [
       "<Figure size 432x288 with 1 Axes>"
      ]
     },
     "metadata": {},
     "output_type": "display_data"
    }
   ],
   "source": [
    "demo_triangle_intersection(positive_case=False)\n",
    "demo_triangle_intersection(positive_case=True)"
   ]
  },
  {
   "cell_type": "code",
   "execution_count": 505,
   "metadata": {
    "collapsed": true
   },
   "outputs": [],
   "source": [
    "def get_verts(ax, patch):\n",
    "    transformation = ax.transData.inverted()\n",
    "    return transformation.transform(patch.get_verts())"
   ]
  },
  {
   "cell_type": "code",
   "execution_count": 578,
   "metadata": {},
   "outputs": [
    {
     "data": {
      "image/png": "[encoded data removed]",
      "text/plain": [
       "<Figure size 432x288 with 1 Axes>"
      ]
     },
     "metadata": {},
     "output_type": "display_data"
    },
    {
     "data": {
      "text/plain": [
       "False"
      ]
     },
     "execution_count": 578,
     "metadata": {},
     "output_type": "execute_result"
    }
   ],
   "source": [
    "piano = create_triangle(xy=(5, 4), theta=pi/6, r=1)\n",
    "obstacles = make_obstacles()\n",
    "\n",
    "patches = [piano] + obstacles\n",
    "ax = plot_world(patches)\n",
    "\n",
    "verts_fn = lambda patch: get_verts(ax, patch)\n",
    "collision_check(piano, obstacles, verts_fn)"
   ]
  },
  {
   "cell_type": "code",
   "execution_count": 99,
   "metadata": {
    "collapsed": true
   },
   "outputs": [],
   "source": [
    "def main():\n",
    "    pass"
   ]
  },
  {
   "cell_type": "code",
   "execution_count": null,
   "metadata": {
    "collapsed": true
   },
   "outputs": [],
   "source": [
    "if __name__ == '__main__':\n",
    "    main()"
   ]
  }
 ],
 "metadata": {
  "kernelspec": {
   "display_name": "Python 3",
   "language": "python",
   "name": "python3"
  },
  "language_info": {
   "codemirror_mode": {
    "name": "ipython",
    "version": 3
   },
   "file_extension": ".py",
   "mimetype": "text/x-python",
   "name": "python",
   "nbconvert_exporter": "python",
   "pygments_lexer": "ipython3",
   "version": "3.6.1"
  }
 },
 "nbformat": 4,
 "nbformat_minor": 2
}
