{
 "cells": [
  {
   "cell_type": "code",
   "execution_count": 2,
   "metadata": {
    "collapsed": true
   },
   "outputs": [],
   "source": [
    "import numpy as np\n",
    "import heapq\n",
    "import matplotlib.pyplot as plt\n",
    "import matplotlib.patches\n",
    "\n",
    "from math import inf, pi\n",
    "from itertools import product, combinations\n",
    "\n",
    "%matplotlib inline"
   ]
  },
  {
   "cell_type": "code",
   "execution_count": 175,
   "metadata": {
    "collapsed": true
   },
   "outputs": [],
   "source": [
    "def side_of_line(pa, pb, p):\n",
    "    '''returns -1 if p is in left half-plane determined \n",
    "       by points pa and pb, +1 if in right half-plane'''\n",
    "    \n",
    "    rhs = p[1] - pa[1] * (pb[0] - pa[0]) * (p[0] - pa[0])\n",
    "    lhs = (pb[1] - pa[1])\n",
    "    return np.sign(rhs - lhs)"
   ]
  },
  {
   "cell_type": "code",
   "execution_count": 177,
   "metadata": {
    "collapsed": true
   },
   "outputs": [],
   "source": [
    "def exists_separating_hyperplane(tri1, tri2):\n",
    "    '''tri1 and tri2 are 2 x 3 and denote the vertices of two triangles'''\n",
    "    \n",
    "    for i in range(3):\n",
    "        pa, pb = [tri1[:, j] for j in range(3) if i != j]\n",
    "        side_1 = side_of_line(pa, pb, tri1[:, i])\n",
    "        sides_2 = [side_of_line(pa, pb, tri2[:, j]) for j in range(3)]\n",
    "        signs_differ = [side_1 != side_2 for side_2 in sides_2]\n",
    "        if all(signs_differ): return True\n",
    "    return False"
   ]
  },
  {
   "cell_type": "code",
   "execution_count": 178,
   "metadata": {
    "collapsed": true
   },
   "outputs": [],
   "source": [
    "def intersect(tri1, tri2):\n",
    "    '''tri1 and tri2 intersect if cannot find separating hyperplane'''\n",
    "    b1 = exists_separating_hyperplane(tri1, tri2)\n",
    "    b2 = exists_separating_hyperplane(tri2, tri1)\n",
    "    return not (b1 or b2)"
   ]
  },
  {
   "cell_type": "code",
   "execution_count": 114,
   "metadata": {
    "collapsed": true
   },
   "outputs": [],
   "source": [
    "def collision_check():\n",
    "    pass"
   ]
  },
  {
   "cell_type": "code",
   "execution_count": 116,
   "metadata": {
    "collapsed": true
   },
   "outputs": [],
   "source": [
    "def compute_configuration_space(piano, grid):\n",
    "    '''sweeps through grid checking for triangle intersections'''\n",
    "    \n",
    "    configuration_space = np.zeros_like(grid)\n",
    "    for x in np.arange(0, 10, 0.1):\n",
    "        for y in np.arange(0, 10, 0.1):\n",
    "            for theta in np.arange(0, 2*pi, 0.05):\n",
    "                if False:\n",
    "                    configuration_space[x, y, theta] = collision_check()\n",
    "    \n",
    "    return configuration_space"
   ]
  },
  {
   "cell_type": "code",
   "execution_count": 117,
   "metadata": {
    "collapsed": true
   },
   "outputs": [],
   "source": [
    "def make_piano(offset):\n",
    "    vertices = np.array([[0.0, 0.0], [0.0, 2.0], [0.5, 2.2], \n",
    "        [1.0, 2.0], [1.2, 1.2], [1.5, 1.0], [1.5, 0.0]])\n",
    "    xy = vertices + offset\n",
    "    piano = matplotlib.patches.Polygon(xy=xy)\n",
    "    return piano"
   ]
  },
  {
   "cell_type": "code",
   "execution_count": 118,
   "metadata": {
    "collapsed": true
   },
   "outputs": [],
   "source": [
    "def make_obstacles():\n",
    "    wall_1 = matplotlib.patches.Rectangle(xy=(5, 0), angle=0, height=2, width=0.2)\n",
    "    wall_2 = matplotlib.patches.Rectangle(xy=(5, 5), angle=0, height=2, width=0.2)\n",
    "    obstacles = [wall_1, wall_2]\n",
    "    return obstacles"
   ]
  },
  {
   "cell_type": "code",
   "execution_count": 179,
   "metadata": {
    "collapsed": true
   },
   "outputs": [],
   "source": [
    "def plot_world(patches, goal=(8, 2)):\n",
    "    fig, ax = plt.subplots()\n",
    "    for patch in patches:\n",
    "        ax.add_patch(patch)\n",
    "        ax.set_xlim([0, 10])\n",
    "    ax.set_ylim([0, 10])\n",
    "    ax.scatter(goal[0], goal[1])\n",
    "    plt.show()\n",
    "    return ax"
   ]
  },
  {
   "cell_type": "code",
   "execution_count": 120,
   "metadata": {
    "collapsed": true
   },
   "outputs": [],
   "source": [
    "def create_triangle(pose, r=0.1):\n",
    "    xy = pose[:2] \n",
    "    theta = pose[2] - pi / 2\n",
    "    kwargs = dict(xy=xy, numVertices=3, radius=r, orientation=theta)\n",
    "    return RegularPolygon(**kwargs)"
   ]
  },
  {
   "cell_type": "code",
   "execution_count": 186,
   "metadata": {
    "collapsed": true
   },
   "outputs": [],
   "source": [
    "def demo_triangle_intersection(positive_case=True):\n",
    "    tri1 = np.array([[3, 1, 4], [3, 4, 1]])\n",
    "    if positive_case: tri2 = np.array([[0, 0, 4], [0, 1, 2]])\n",
    "    else: tri2 = np.array([[0, 0, 2], [0, 1, 2]])\n",
    "        \n",
    "    verb = 'do' if intersect(tri1, tri2) else 'do not'\n",
    "    s = 'tri1 and tri2 {} intersect'.format(verb)\n",
    "\n",
    "    fig, ax = plt.subplots()\n",
    "    for tri in (tri1, tri2):\n",
    "        ax.add_patch(matplotlib.patches.Polygon(xy=tri.T))\n",
    "        \n",
    "    ax.set_xlim([-5, 5])\n",
    "    ax.set_ylim([-5, 5])\n",
    "    fig.suptitle(s)"
   ]
  },
  {
   "cell_type": "code",
   "execution_count": 187,
   "metadata": {},
   "outputs": [
    {
     "data": {
      "image/png": "[encoded data removed]",
      "text/plain": [
       "<Figure size 432x288 with 1 Axes>"
      ]
     },
     "metadata": {},
     "output_type": "display_data"
    },
    {
     "data": {
      "image/png": "[encoded data removed]",
      "text/plain": [
       "<Figure size 432x288 with 1 Axes>"
      ]
     },
     "metadata": {},
     "output_type": "display_data"
    }
   ],
   "source": [
    "demo_triangle_intersection(positive_case=False)\n",
    "demo_triangle_intersection(positive_case=True)"
   ]
  },
  {
   "cell_type": "code",
   "execution_count": 102,
   "metadata": {},
   "outputs": [
    {
     "data": {
      "image/png": "[encoded data removed]",
      "text/plain": [
       "<Figure size 432x288 with 1 Axes>"
      ]
     },
     "metadata": {},
     "output_type": "display_data"
    }
   ],
   "source": [
    "piano = make_piano(offset=np.array([2, 4]))\n",
    "obstacles = make_obstacles()\n",
    "\n",
    "patches = [piano] + obstacles\n",
    "ax = plot_world(patches)"
   ]
  },
  {
   "cell_type": "code",
   "execution_count": 99,
   "metadata": {
    "collapsed": true
   },
   "outputs": [],
   "source": [
    "def main():\n",
    "    pass"
   ]
  },
  {
   "cell_type": "code",
   "execution_count": null,
   "metadata": {
    "collapsed": true
   },
   "outputs": [],
   "source": [
    "if __name__ == '__main__':\n",
    "    main()"
   ]
  }
 ],
 "metadata": {
  "kernelspec": {
   "display_name": "Python 3",
   "language": "python",
   "name": "python3"
  },
  "language_info": {
   "codemirror_mode": {
    "name": "ipython",
    "version": 3
   },
   "file_extension": ".py",
   "mimetype": "text/x-python",
   "name": "python",
   "nbconvert_exporter": "python",
   "pygments_lexer": "ipython3",
   "version": "3.6.1"
  }
 },
 "nbformat": 4,
 "nbformat_minor": 2
}
