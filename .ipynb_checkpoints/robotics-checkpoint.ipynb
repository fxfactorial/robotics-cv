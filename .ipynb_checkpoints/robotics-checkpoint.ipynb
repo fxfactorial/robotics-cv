{
 "cells": [
  {
   "cell_type": "code",
   "execution_count": 1,
   "metadata": {
    "collapsed": true
   },
   "outputs": [],
   "source": [
    "import numpy as np\n",
    "import matplotlib.pyplot as plt\n",
    "\n",
    "from time import sleep\n",
    "from matplotlib.animation import FuncAnimation\n",
    "from math import sin, cos, atan2, sqrt, pi\n",
    "\n",
    "%matplotlib inline"
   ]
  },
  {
   "cell_type": "code",
   "execution_count": 2,
   "metadata": {},
   "outputs": [],
   "source": [
    "def wrap_to_pi(theta):\n",
    "    return (theta + pi) % (2 * pi) - pi"
   ]
  },
  {
   "cell_type": "code",
   "execution_count": 3,
   "metadata": {
    "collapsed": true
   },
   "outputs": [],
   "source": [
    "class Robot(object):\n",
    "    '''A differential drive robot living in the x, y, theta plane'''\n",
    "    \n",
    "    def __init__(self, init_pose=np.zeros(3)):\n",
    "        self.pose = init_pose \n",
    "   \n",
    "    def update_pose(self, v, w, dt=0.1):\n",
    "        dx = dt * v * cos(self.pose[2])\n",
    "        dy = dt * v * sin(self.pose[2])\n",
    "        dtheta = dt * w\n",
    "        self.pose += np.array([dx, dy, dtheta])"
   ]
  },
  {
   "cell_type": "code",
   "execution_count": 4,
   "metadata": {
    "collapsed": true
   },
   "outputs": [],
   "source": [
    "class RobotControl(object):\n",
    "    k_alpha = 1\n",
    "    k_beta = -1\n",
    "    k_rho = 0.5\n",
    "    \n",
    "    def __init__(self, goal_pose):\n",
    "        self.goal_pose = goal_pose\n",
    "    \n",
    "    def control_law(self, measured_pose):\n",
    "        e = self.goal_pose - measured_pose\n",
    "        dx, dy = e[0], e[1]\n",
    "        theta = wrap_to_pi(measured_pose[2])\n",
    "\n",
    "        rho = sqrt(dx**2 + dy**2)\n",
    "        alpha = wrap_to_pi(-theta + atan2(dy, dx))\n",
    "        beta = wrap_to_pi(-theta - alpha)\n",
    "\n",
    "        v = self.k_rho * rho\n",
    "        w = self.k_alpha * alpha + self.k_beta * beta\n",
    "        \n",
    "        if alpha < -pi / 2 or alpha > pi / 2:\n",
    "            v, w = -v, -w\n",
    "        \n",
    "        return v, w"
   ]
  },
  {
   "cell_type": "code",
   "execution_count": null,
   "metadata": {},
   "outputs": [],
   "source": [
    "robot = Robot(init_pose=np.array(np.zeros(3)))\n",
    "controller = RobotControl(goal_pose=np.array([2, 0, 0]))\n",
    "\n",
    "f, ax = plt.subplots()\n",
    "ani = FuncAnimation(f, advance, interval=300, frames=10)\n",
    "plt.show()"
   ]
  },
  {
   "cell_type": "code",
   "execution_count": 5,
   "metadata": {
    "collapsed": true
   },
   "outputs": [],
   "source": [
    "def advance(*args):\n",
    "    measured_pose = robot.pose\n",
    "    v, w = controller.control_law(measured_pose)\n",
    "    robot.update_pose(v, w)\n",
    "    return ax.scatter(measured_pose[0], measured_pose[1])"
   ]
  }
 ],
 "metadata": {
  "kernelspec": {
   "display_name": "Python 3",
   "language": "python",
   "name": "python3"
  },
  "language_info": {
   "codemirror_mode": {
    "name": "ipython",
    "version": 3
   },
   "file_extension": ".py",
   "mimetype": "text/x-python",
   "name": "python",
   "nbconvert_exporter": "python",
   "pygments_lexer": "ipython3",
   "version": "3.6.1"
  }
 },
 "nbformat": 4,
 "nbformat_minor": 2
}
