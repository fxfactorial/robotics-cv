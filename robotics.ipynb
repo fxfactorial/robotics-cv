{
 "cells": [
  {
   "cell_type": "code",
   "execution_count": 21,
   "metadata": {
    "collapsed": true
   },
   "outputs": [],
   "source": [
    "import numpy as np\n",
    "import matplotlib.pyplot as plt\n",
    "\n",
    "from math import sin, cos, atan2, sqrt, pi"
   ]
  },
  {
   "cell_type": "code",
   "execution_count": 11,
   "metadata": {
    "collapsed": true
   },
   "outputs": [],
   "source": [
    "class Robot(object):\n",
    "    '''A differential drive robot living in the x, y, theta plane'''\n",
    "    \n",
    "    def __init__(self):\n",
    "        self.pose = np.zeros(3)\n",
    "   \n",
    "    def update_pose(self, v, w, dt=0.1):\n",
    "        dx = dt * v * cos(self.pose[2])\n",
    "        dy = dt * v * sin(self.pose[2])\n",
    "        dtheta = dt * w\n",
    "        \n",
    "        self.pose += np.array([dx, dy, dtheta])"
   ]
  },
  {
   "cell_type": "code",
   "execution_count": 22,
   "metadata": {},
   "outputs": [],
   "source": [
    "class RobotControl(object):\n",
    "    k_alpha = 0.4\n",
    "    k_beta = -0.4\n",
    "    k_rho = 0.2\n",
    "    \n",
    "    def __init__(self, robot, goal_pose):\n",
    "        self.robot = robot\n",
    "        self.goal_pose = goal_pose\n",
    "    \n",
    "    def control_law(self, measured_pose):\n",
    "        e = self.goal_pose - measured_pose\n",
    "        dx, dy = e[0], e[1]\n",
    "        theta = measured_pose[2]\n",
    "\n",
    "        rho = sqrt(dx**2 + dy**2)\n",
    "        alpha = -theta + atan2(dy, dx)\n",
    "        beta = -theta - alpha + self.goal_pose[2]\n",
    "\n",
    "        v = min(0.45, self.k_rho * rho)\n",
    "        w = min(4.0, self.k_alpha * alpha + self.k_beta * beta)\n",
    "        \n",
    "        if alpha < -pi / 2 or alpha > pi / 2:\n",
    "            v, w = -v, -w\n",
    "        \n",
    "        return v, w"
   ]
  },
  {
   "cell_type": "code",
   "execution_count": null,
   "metadata": {
    "collapsed": true
   },
   "outputs": [],
   "source": [
    "robot = Robot()\n",
    "controller = RobotControl(robot, goal_pose=np.array([0, 2, 0]))\n",
    "\n",
    "while True:\n",
    "    measured_pose = robot.pose\n",
    "    v, w = controller.control_law(measured_pose)"
   ]
  },
  {
   "cell_type": "code",
   "execution_count": null,
   "metadata": {
    "collapsed": true
   },
   "outputs": [],
   "source": []
  }
 ],
 "metadata": {
  "kernelspec": {
   "display_name": "Python 3",
   "language": "python",
   "name": "python3"
  },
  "language_info": {
   "codemirror_mode": {
    "name": "ipython",
    "version": 3
   },
   "file_extension": ".py",
   "mimetype": "text/x-python",
   "name": "python",
   "nbconvert_exporter": "python",
   "pygments_lexer": "ipython3",
   "version": "3.6.1"
  }
 },
 "nbformat": 4,
 "nbformat_minor": 2
}
