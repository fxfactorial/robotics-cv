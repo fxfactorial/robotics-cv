{
 "cells": [
  {
   "cell_type": "code",
   "execution_count": null,
   "metadata": {
    "collapsed": true
   },
   "outputs": [],
   "source": [
    "import numpy as np\n",
    "import heapq\n",
    "import matplotlib.pyplot as plt\n",
    "\n",
    "from math import inf\n",
    "from itertools import product\n",
    "\n",
    "%matplotlib inline"
   ]
  },
  {
   "cell_type": "code",
   "execution_count": 2,
   "metadata": {
    "collapsed": true
   },
   "outputs": [],
   "source": [
    "class Heap(object):\n",
    "    \n",
    "    def __init__(self, data, key):\n",
    "        self.key = key\n",
    "        self._data = [(key(elt), elt) for elt in data]\n",
    "        heapq.heapify(self._data)\n",
    " \n",
    "    def push(self, elt):\n",
    "        heapq.heappush(self._data, (self.key(elt), elt))\n",
    " \n",
    "    def pop(self):\n",
    "        return heapq.heappop(self._data)[1]"
   ]
  },
  {
   "cell_type": "code",
   "execution_count": 3,
   "metadata": {},
   "outputs": [],
   "source": [
    "class Dijkstra:\n",
    "    '''0s in grid mark free space, 1s mark obstacles'''\n",
    "   \n",
    "    def __init__(self, grid, start, dest):\n",
    "        self.grid = grid\n",
    "        self.start = start\n",
    "        self.dest = dest\n",
    "        self.route = []\n",
    "        self.came_from = {start : start}\n",
    "        self.dist_to = np.array([[inf] * grid.shape[1]] * grid.shape[0])\n",
    "        self.dist_to[start] = 0\n",
    "\n",
    "\n",
    "    def dijsktra(self):\n",
    "        seen = set()\n",
    "        y0, y1 = self.start[0], self.start[1]\n",
    "        key = lambda x : abs(x[0] - y0) + abs(x[1] - y1)\n",
    "        frontier = Heap(data=[self.start], key=key)\n",
    "\n",
    "        while frontier:\n",
    "            curr = frontier.pop()\n",
    "            seen.add(curr)\n",
    "            for nbr in self.get_neighbors(*curr):\n",
    "                if nbr not in seen: \n",
    "                    self.visit_neighbor(curr, nbr)\n",
    "                    frontier.push(nbr)\n",
    "                    if nbr == self.dest:\n",
    "                        frontier = []\n",
    "                        break\n",
    "\n",
    "        self.build_route()\n",
    "        return self.route\n",
    "\n",
    "\n",
    "    def build_route(self):\n",
    "        node = self.dest\n",
    "        route = [self.dest]\n",
    "        while node != self.came_from[node]:\n",
    "            node = self.came_from[node]\n",
    "            route += [node]\n",
    "        self.route = list(reversed(route))\n",
    "            \n",
    "    \n",
    "    def visit_neighbor(self, curr, nbr):\n",
    "        tentative_dist = self.dist_to[curr] + 1\n",
    "        if tentative_dist < self.dist_to[nbr]:\n",
    "            self.dist_to[nbr] = tentative_dist\n",
    "            self.came_from[nbr] = curr\n",
    "            \n",
    "            \n",
    "    def get_neighbors(self, i, j):\n",
    "        m, n = self.grid.shape\n",
    "        mask = lambda a: 0 <= a[0] < m and 0 <= a[1] < n and (a[0]==i) != (a[1]==j)\n",
    "        nbrs = filter(mask, product(range(i-1, i+2), range(j-1, j+2)))\n",
    "        return filter(lambda x: self.grid[x] != 1, nbrs)\n",
    "    \n",
    "    \n",
    "    def visualize(self):\n",
    "        mask = list(map(list, zip(*self.route)))\n",
    "        self.grid[mask] = 2\n",
    "        self.grid[self.start] = 3\n",
    "        self.grid[self.dest] = 4\n",
    "        \n",
    "        f, ax = plt.subplots()\n",
    "        ax.imshow(self.grid)\n",
    "        ax.set_axis_off()\n",
    "        ax.set_title('Dijkstra')\n",
    "        plt.show()"
   ]
  },
  {
   "cell_type": "code",
   "execution_count": 4,
   "metadata": {
    "collapsed": true
   },
   "outputs": [],
   "source": [
    "def add_obstacles(grid, obstacles):\n",
    "    for obs in obstacles:\n",
    "        grid[obs] = 1"
   ]
  },
  {
   "cell_type": "code",
   "execution_count": 5,
   "metadata": {},
   "outputs": [],
   "source": [
    "def main():\n",
    "    grid = np.zeros((10, 10), dtype=int)\n",
    "\n",
    "    o1 = ([2] * 6, range(3, 9))\n",
    "    o2 = ([6] * 2, range(6, 8))\n",
    "    o3 = (range(5, 9), [5] * 4)\n",
    "\n",
    "    add_obstacles(grid, [o1, o2, o3])\n",
    "\n",
    "    start = (0, 1)\n",
    "    dest = (8, 7)\n",
    "\n",
    "    d = Dijkstra(grid, start, dest)\n",
    "    route = d.dijsktra()\n",
    "    d.visualize()"
   ]
  },
  {
   "cell_type": "code",
   "execution_count": 6,
   "metadata": {},
   "outputs": [
    {
     "data": {
      "image/png": "[encoded data removed]",
      "text/plain": [
       "<Figure size 432x288 with 1 Axes>"
      ]
     },
     "metadata": {},
     "output_type": "display_data"
    }
   ],
   "source": [
    "if __name__ == '__main__':\n",
    "    main()"
   ]
  }
 ],
 "metadata": {
  "kernelspec": {
   "display_name": "Python 3",
   "language": "python",
   "name": "python3"
  },
  "language_info": {
   "codemirror_mode": {
    "name": "ipython",
    "version": 3
   },
   "file_extension": ".py",
   "mimetype": "text/x-python",
   "name": "python",
   "nbconvert_exporter": "python",
   "pygments_lexer": "ipython3",
   "version": "3.6.1"
  }
 },
 "nbformat": 4,
 "nbformat_minor": 2
}
