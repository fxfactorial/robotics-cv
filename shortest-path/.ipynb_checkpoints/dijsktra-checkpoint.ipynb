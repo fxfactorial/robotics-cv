{
 "cells": [
  {
   "cell_type": "code",
   "execution_count": 23,
   "metadata": {
    "collapsed": true
   },
   "outputs": [],
   "source": [
    "import numpy as np\n",
    "import matplotlib.pyplot as plt\n",
    "\n",
    "from math import inf\n",
    "from itertools import product\n",
    "from heapq import heappop, heappush\n",
    "\n",
    "%matplotlib inline"
   ]
  },
  {
   "cell_type": "code",
   "execution_count": 34,
   "metadata": {},
   "outputs": [],
   "source": [
    "class Dijkstra():\n",
    "    '''0s in grid mark free space, 1s mark obstacles'''\n",
    "   \n",
    "    def __init__(self, grid, start, dest):\n",
    "        self.grid = grid\n",
    "        self.start = start\n",
    "        self.dest = dest\n",
    "        self.came_from = {start: start}\n",
    "        self.dist_to = np.inf(grid.shape)\n",
    "\n",
    "        \n",
    "    def dijsktra(grid, start, dest):\n",
    "        seen = []\n",
    "        frontier = [self.start]\n",
    "        \n",
    "        while frontier:\n",
    "            curr = heappop(frontier)\n",
    "            seen += [curr]\n",
    "            for nbr in get_neighbors(curr):\n",
    "                if nbr not in seen: visit_neighbor(curr, nbr)\n",
    "\n",
    "        return build_route\n",
    "    \n",
    "    \n",
    "    def build_route(self):\n",
    "        node = self.dest\n",
    "        route = []\n",
    "        while self.came_from[node] != node:\n",
    "            node = came_from[node]\n",
    "            route += [node]\n",
    "        return reversed(route)\n",
    "            \n",
    "    \n",
    "    def visit_neighbor(curr, nbr):\n",
    "        tentative_dist = dist_to[curr] + 1\n",
    "        if tentative_dist < dist_to[nbr]:\n",
    "            dist_to[nbr] = tentative_dist\n",
    "            came_from[nbr] = curr\n",
    "            \n",
    "            \n",
    "    def get_neighbors(self, i, j):\n",
    "        m, n = self.grid.shape\n",
    "        mask = lambda a: 0 <= a[0] < m and 0 <= a[1] < n and (a[0]==i) != (a[1]==j)\n",
    "        return filter(mask, product(range(i-1, i+2), range(j-1, j+2)))\n",
    "    \n",
    "    \n",
    "    def visualize(self):\n",
    "        f, ax = plt.subplots()\n",
    "        ax.imshow(x)\n",
    "        ax.set_axis_off()\n",
    "        plt.show()"
   ]
  },
  {
   "cell_type": "code",
   "execution_count": 17,
   "metadata": {},
   "outputs": [],
   "source": [
    "x = np.zeros((10, 10), dtype=int)\n",
    "obstacles = ([2, 3, 4, 5], [4, 4, 4, 4])\n",
    "x[obstacles] = 1"
   ]
  }
 ],
 "metadata": {
  "kernelspec": {
   "display_name": "Python 3",
   "language": "python",
   "name": "python3"
  },
  "language_info": {
   "codemirror_mode": {
    "name": "ipython",
    "version": 3
   },
   "file_extension": ".py",
   "mimetype": "text/x-python",
   "name": "python",
   "nbconvert_exporter": "python",
   "pygments_lexer": "ipython3",
   "version": "3.6.1"
  }
 },
 "nbformat": 4,
 "nbformat_minor": 2
}
